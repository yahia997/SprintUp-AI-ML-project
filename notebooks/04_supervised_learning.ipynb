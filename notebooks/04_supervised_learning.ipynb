{
 "cells": [
  {
   "cell_type": "code",
   "execution_count": 26,
   "id": "0f9dcf0f",
   "metadata": {},
   "outputs": [],
   "source": [
    "import pandas as pd\n",
    "import numpy as np\n",
    "import matplotlib.pyplot as plt\n",
    "from sklearn.metrics import  confusion_matrix, accuracy_score, recall_score, precision_score, f1_score, classification_report"
   ]
  },
  {
   "cell_type": "code",
   "execution_count": 27,
   "id": "3e20b550",
   "metadata": {},
   "outputs": [],
   "source": [
    "df = pd.read_csv(\"../data/feature_selected.csv\")\n",
    "df = df.drop('Unnamed: 0', axis=1)"
   ]
  },
  {
   "cell_type": "markdown",
   "id": "32596604",
   "metadata": {},
   "source": [
    "### Split the dataset into training (80%) and testing (20%) sets."
   ]
  },
  {
   "cell_type": "code",
   "execution_count": 28,
   "id": "b3f21a53",
   "metadata": {},
   "outputs": [],
   "source": [
    "from sklearn.model_selection import train_test_split\n",
    "\n",
    "X = df.iloc[:, :-1]\n",
    "y = df.iloc[:, -1].astype(str)\n",
    "X_train, X_test, y_train, y_test = train_test_split(X, y, train_size=0.8, random_state=42)"
   ]
  },
  {
   "cell_type": "code",
   "execution_count": 29,
   "id": "3377e5e7",
   "metadata": {},
   "outputs": [
    {
     "data": {
      "text/plain": [
       "array(['-0.8484547210461874', '0.9865752570304503', '0.0690602679921315',\n",
       "       '1.9040902460687688', '2.8216052351070884'], dtype=object)"
      ]
     },
     "execution_count": 29,
     "metadata": {},
     "output_type": "execute_result"
    }
   ],
   "source": [
    "y.unique()\n",
    "# We can see we can deal with it as labels\n",
    "# it is floats as it is scaled\n",
    "# converted to string to deal with it as labels as Logistic regression throws error"
   ]
  },
  {
   "cell_type": "markdown",
   "id": "1a36ec68",
   "metadata": {},
   "source": [
    "### Logistic Regression"
   ]
  },
  {
   "cell_type": "code",
   "execution_count": 30,
   "id": "d3ab4d43",
   "metadata": {},
   "outputs": [
    {
     "name": "stdout",
     "output_type": "stream",
     "text": [
      "Train accuracy: 0.585949177877429\n",
      "Test accuracy: 0.6428571428571429\n"
     ]
    }
   ],
   "source": [
    "from sklearn.linear_model import LogisticRegression\n",
    "\n",
    "log = LogisticRegression(random_state=42, penalty='l1', solver='liblinear')\n",
    "log.fit(X_train, y_train)\n",
    "\n",
    "logistic_pre = log.predict(X_test)\n",
    "\n",
    "train_acc = accuracy_score(y_train, log.predict(X_train))\n",
    "test_acc = accuracy_score(y_test, logistic_pre)\n",
    "print(f\"Train accuracy: {train_acc}\")\n",
    "print(f\"Test accuracy: {test_acc}\")"
   ]
  },
  {
   "cell_type": "markdown",
   "id": "c865c158",
   "metadata": {},
   "source": [
    "We can see there are a little underfitting\n",
    "\n",
    "When applied Lasso Regression the accuracy increased by 0.01"
   ]
  },
  {
   "cell_type": "markdown",
   "id": "95dfdaed",
   "metadata": {},
   "source": [
    "### Decision Tree"
   ]
  },
  {
   "cell_type": "code",
   "execution_count": 31,
   "id": "9e7e9585",
   "metadata": {},
   "outputs": [
    {
     "name": "stdout",
     "output_type": "stream",
     "text": [
      "Train accuracy: 1.0\n",
      "Test accuracy: 0.5119047619047619\n"
     ]
    }
   ],
   "source": [
    "from sklearn.tree import DecisionTreeClassifier\n",
    "\n",
    "dst = DecisionTreeClassifier(random_state=42)\n",
    "dst.fit(X_train, y_train)\n",
    "\n",
    "dst_pre = dst.predict(X_test)\n",
    "\n",
    "train_acc = accuracy_score(y_train, dst.predict(X_train))\n",
    "test_acc = accuracy_score(y_test, dst_pre)\n",
    "print(f\"Train accuracy: {train_acc}\")\n",
    "print(f\"Test accuracy: {test_acc}\")"
   ]
  },
  {
   "cell_type": "markdown",
   "id": "fea232b4",
   "metadata": {},
   "source": [
    "We can see that here we have overfitting\n",
    "\n",
    "We can solve this by using cross validation"
   ]
  },
  {
   "cell_type": "markdown",
   "id": "bbae4efd",
   "metadata": {},
   "source": [
    "### Random Forest"
   ]
  },
  {
   "cell_type": "code",
   "execution_count": 32,
   "id": "314eeb37",
   "metadata": {},
   "outputs": [
    {
     "name": "stdout",
     "output_type": "stream",
     "text": [
      "Train accuracy: 1.0\n",
      "Test accuracy: 0.625\n"
     ]
    }
   ],
   "source": [
    "from sklearn.ensemble import RandomForestClassifier\n",
    "\n",
    "rf = RandomForestClassifier(n_estimators=100, random_state=42)\n",
    "rf.fit(X_train, y_train)\n",
    "\n",
    "rf_pre = rf.predict(X_test)\n",
    "\n",
    "train_acc = accuracy_score(y_train, rf.predict(X_train))\n",
    "test_acc = accuracy_score(y_test, rf_pre)\n",
    "print(f\"Train accuracy: {train_acc}\")\n",
    "print(f\"Test accuracy: {test_acc}\")"
   ]
  },
  {
   "cell_type": "markdown",
   "id": "1bda1052",
   "metadata": {},
   "source": [
    "The results is more better than Decision tree but still have overfitting"
   ]
  },
  {
   "cell_type": "markdown",
   "id": "8148ab14",
   "metadata": {},
   "source": [
    "### Support Vector Machine (SVM)"
   ]
  },
  {
   "cell_type": "code",
   "execution_count": 33,
   "id": "96f28faf",
   "metadata": {},
   "outputs": [
    {
     "name": "stdout",
     "output_type": "stream",
     "text": [
      "Train accuracy: 0.6576980568011959\n",
      "Test accuracy: 0.6428571428571429\n"
     ]
    }
   ],
   "source": [
    "from sklearn.svm import SVC\n",
    "\n",
    "svc = SVC(random_state=42)\n",
    "svc.fit(X_train, y_train)\n",
    "\n",
    "svc_pre = svc.predict(X_test)\n",
    "\n",
    "train_acc = accuracy_score(y_train, svc.predict(X_train))\n",
    "test_acc = accuracy_score(y_test, svc_pre)\n",
    "print(f\"Train accuracy: {train_acc}\")\n",
    "print(f\"Test accuracy: {test_acc}\")"
   ]
  },
  {
   "cell_type": "code",
   "execution_count": 35,
   "id": "c78c97c4",
   "metadata": {},
   "outputs": [
    {
     "data": {
      "text/plain": [
       "<Axes: xlabel='Model'>"
      ]
     },
     "execution_count": 35,
     "metadata": {},
     "output_type": "execute_result"
    },
    {
     "data": {
      "image/png": "[encoded data removed]",
      "text/plain": [
       "<Figure size 640x480 with 1 Axes>"
      ]
     },
     "metadata": {},
     "output_type": "display_data"
    }
   ],
   "source": [
    "df2 = pd.DataFrame({\n",
    "  'Model': ['Logistic Regression', 'Decsision Tree', 'Random Forest', 'SVM'],\n",
    "  'Recall': [\n",
    "    recall_score(y_test, logistic_pre, average='micro'), \n",
    "    recall_score(y_test, dst_pre, average='micro'),\n",
    "    recall_score(y_test, rf_pre, average='micro'),\n",
    "    recall_score(y_test, svc_pre, average='micro'),\n",
    "    ],\n",
    "  'Precision': [\n",
    "    precision_score(y_test, logistic_pre, average='micro'), \n",
    "    precision_score(y_test, dst_pre, average='micro'),\n",
    "    precision_score(y_test, rf_pre, average='micro'),\n",
    "    precision_score(y_test, svc_pre, average='micro'),\n",
    "    ],\n",
    "  'F1 Score': [\n",
    "    f1_score(y_test, logistic_pre, average='micro'), \n",
    "    f1_score(y_test, dst_pre, average='micro'),\n",
    "    f1_score(y_test, rf_pre, average='micro'),\n",
    "    f1_score(y_test, svc_pre, average='micro'),\n",
    "    ],\n",
    "  'Accuracy': [\n",
    "    accuracy_score(y_test, logistic_pre), \n",
    "    accuracy_score(y_test, dst_pre),\n",
    "    accuracy_score(y_test, rf_pre),\n",
    "    accuracy_score(y_test, svc_pre),\n",
    "    ],\n",
    "})\n",
    "\n",
    "pv = df2.pivot_table(index='Model')\n",
    "pv.plot(kind='bar')"
   ]
  },
  {
   "cell_type": "markdown",
   "id": "adaadb38",
   "metadata": {},
   "source": [
    "ROC Curve & AUC Score"
   ]
  }
 ],
 "metadata": {
  "kernelspec": {
   "display_name": "Python 3",
   "language": "python",
   "name": "python3"
  },
  "language_info": {
   "codemirror_mode": {
    "name": "ipython",
    "version": 3
   },
   "file_extension": ".py",
   "mimetype": "text/x-python",
   "name": "python",
   "nbconvert_exporter": "python",
   "pygments_lexer": "ipython3",
   "version": "3.11.7"
  }
 },
 "nbformat": 4,
 "nbformat_minor": 5
}
