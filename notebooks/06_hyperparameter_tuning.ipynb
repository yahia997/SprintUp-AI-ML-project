{
 "cells": [
  {
   "cell_type": "markdown",
   "id": "92754e23",
   "metadata": {},
   "source": [
    "## Hyperparamters and fixing models performance"
   ]
  },
  {
   "cell_type": "code",
   "execution_count": 1,
   "id": "0f9dcf0f",
   "metadata": {},
   "outputs": [],
   "source": [
    "import pandas as pd\n",
    "import numpy as np\n",
    "import matplotlib.pyplot as plt\n",
    "from sklearn.metrics import  confusion_matrix, accuracy_score, recall_score, precision_score, f1_score, classification_report\n",
    "from sklearn.model_selection import GridSearchCV\n",
    "from sklearn.model_selection import RandomizedSearchCV"
   ]
  },
  {
   "cell_type": "code",
   "execution_count": 2,
   "id": "3e20b550",
   "metadata": {},
   "outputs": [],
   "source": [
    "df = pd.read_csv(\"../data/feature_selected.csv\")\n",
    "df = df.drop('Unnamed: 0', axis=1)"
   ]
  },
  {
   "cell_type": "markdown",
   "id": "32596604",
   "metadata": {},
   "source": [
    "### Split the dataset into training (80%) and testing (20%) sets."
   ]
  },
  {
   "cell_type": "code",
   "execution_count": 3,
   "id": "b3f21a53",
   "metadata": {},
   "outputs": [],
   "source": [
    "from sklearn.model_selection import train_test_split\n",
    "\n",
    "X = df.iloc[:, :-1]\n",
    "y = df.iloc[:, -1].astype(str)\n",
    "X_train, X_test, y_train, y_test = train_test_split(X, y, train_size=0.8, random_state=42)"
   ]
  },
  {
   "cell_type": "markdown",
   "id": "1a36ec68",
   "metadata": {},
   "source": [
    "### Logistic Regression"
   ]
  },
  {
   "cell_type": "code",
   "execution_count": 15,
   "id": "d3ab4d43",
   "metadata": {},
   "outputs": [
    {
     "name": "stdout",
     "output_type": "stream",
     "text": [
      "Best Hyperparameters:\n",
      "{'C': 0.1, 'class_weight': None, 'max_iter': 100, 'penalty': 'l2', 'solver': 'liblinear'}\n",
      "Accuracy on Test Set: 0.82\n"
     ]
    }
   ],
   "source": [
    "from sklearn.linear_model import LogisticRegression\n",
    "from sklearn.model_selection import cross_val_score\n",
    "\n",
    "param_grid_log = {\n",
    "  'C': [0.01, 0.1, 1, 10],\n",
    "  'penalty': ['l1', 'l2'],\n",
    "  'solver': ['liblinear'],\n",
    "  'class_weight': [None, 'balanced'],\n",
    "  'max_iter': [100, 500]\n",
    "}\n",
    "\n",
    "log = LogisticRegression(random_state=0,class_weight='balanced')\n",
    "\n",
    "grid_log = GridSearchCV(log, param_grid_log, cv=5, scoring='accuracy')\n",
    "grid_log.fit(X_train, y_train)\n",
    "\n",
    "# get the best model and parameters\n",
    "best_log_model = grid_log.best_estimator_\n",
    "best_params_log = grid_log.best_params_\n",
    "\n",
    "# print the best hyperparameters\n",
    "print('Best Hyperparameters:')\n",
    "print(best_params_log)\n",
    "\n",
    "# Train the model on the full training set\n",
    "best_log_model.fit(X_train, y_train)\n",
    "\n",
    "# Evaluate the model on the test set\n",
    "y_pred_log = best_log_model.predict(X_test)\n",
    "accuracy_log = accuracy_score(y_test, y_pred_log)\n",
    "\n",
    "print(f'Accuracy on Test Set: {accuracy_log:.2f}')"
   ]
  },
  {
   "cell_type": "markdown",
   "id": "95dfdaed",
   "metadata": {},
   "source": [
    "### Decision Tree"
   ]
  },
  {
   "cell_type": "code",
   "execution_count": 17,
   "id": "9e7e9585",
   "metadata": {},
   "outputs": [
    {
     "name": "stdout",
     "output_type": "stream",
     "text": [
      "Best cross-validated score: 0.8086580086580086\n",
      "Best Hyperparameters:\n",
      "{'criterion': 'gini', 'max_depth': 3, 'max_features': None, 'min_samples_leaf': 1, 'min_samples_split': 3}\n",
      "Accuracy on Test Set: 0.80\n"
     ]
    }
   ],
   "source": [
    "from sklearn.tree import DecisionTreeClassifier\n",
    "from scipy.stats import randint\n",
    "\n",
    "param_dist_dst = {\n",
    "  'max_depth': [3, 5, 10, None],\n",
    "  'min_samples_split': randint(2, 20),\n",
    "  'min_samples_leaf': randint(1, 10),\n",
    "  'criterion': ['gini', 'entropy'],\n",
    "  'max_features': [None, 'sqrt', 'log2']\n",
    "}\n",
    "\n",
    "dst = DecisionTreeClassifier()\n",
    "\n",
    "random_search_dst = RandomizedSearchCV(dst, param_distributions=param_dist_dst, n_iter=50, cv=5, random_state=42)\n",
    "random_search_dst.fit(X_train, y_train)\n",
    "\n",
    "print(\"Best cross-validated score:\", random_search_dst.best_score_)\n",
    "\n",
    "# get the best model and parameters\n",
    "best_dst_model = random_search_dst.best_estimator_\n",
    "best_params_dst = random_search_dst.best_params_\n",
    "\n",
    "# print the best hyperparameters\n",
    "print('Best Hyperparameters:')\n",
    "print(best_params_dst)\n",
    "\n",
    "# Train the model on the full training set\n",
    "best_dst_model.fit(X_train, y_train)\n",
    "\n",
    "# Evaluate the model on the test set\n",
    "y_pred_dst = best_dst_model.predict(X_test)\n",
    "accuracy_dst = accuracy_score(y_test, y_pred_dst)\n",
    "\n",
    "print(f'Accuracy on Test Set: {accuracy_dst:.2f}')"
   ]
  },
  {
   "cell_type": "markdown",
   "id": "bbae4efd",
   "metadata": {},
   "source": [
    "### Random Forest"
   ]
  },
  {
   "cell_type": "code",
   "execution_count": 18,
   "id": "314eeb37",
   "metadata": {},
   "outputs": [
    {
     "name": "stderr",
     "output_type": "stream",
     "text": [
      "c:\\Users\\yahia\\AppData\\Local\\Programs\\Python\\Python311\\Lib\\site-packages\\sklearn\\model_selection\\_validation.py:528: FitFailedWarning: \n",
      "55 fits failed out of a total of 250.\n",
      "The score on these train-test partitions for these parameters will be set to nan.\n",
      "If these failures are not expected, you can try to debug them by setting error_score='raise'.\n",
      "\n",
      "Below are more details about the failures:\n",
      "--------------------------------------------------------------------------------\n",
      "55 fits failed with the following error:\n",
      "Traceback (most recent call last):\n",
      "  File \"c:\\Users\\yahia\\AppData\\Local\\Programs\\Python\\Python311\\Lib\\site-packages\\sklearn\\model_selection\\_validation.py\", line 866, in _fit_and_score\n",
      "    estimator.fit(X_train, y_train, **fit_params)\n",
      "  File \"c:\\Users\\yahia\\AppData\\Local\\Programs\\Python\\Python311\\Lib\\site-packages\\sklearn\\base.py\", line 1382, in wrapper\n",
      "    estimator._validate_params()\n",
      "  File \"c:\\Users\\yahia\\AppData\\Local\\Programs\\Python\\Python311\\Lib\\site-packages\\sklearn\\base.py\", line 436, in _validate_params\n",
      "    validate_parameter_constraints(\n",
      "  File \"c:\\Users\\yahia\\AppData\\Local\\Programs\\Python\\Python311\\Lib\\site-packages\\sklearn\\utils\\_param_validation.py\", line 98, in validate_parameter_constraints\n",
      "    raise InvalidParameterError(\n",
      "sklearn.utils._param_validation.InvalidParameterError: The 'max_features' parameter of RandomForestClassifier must be an int in the range [1, inf), a float in the range (0.0, 1.0], a str among {'sqrt', 'log2'} or None. Got 'auto' instead.\n",
      "\n",
      "  warnings.warn(some_fits_failed_message, FitFailedWarning)\n",
      "c:\\Users\\yahia\\AppData\\Local\\Programs\\Python\\Python311\\Lib\\site-packages\\sklearn\\model_selection\\_search.py:1108: UserWarning: One or more of the test scores are non-finite: [0.82669173 0.82219184 0.81017316 0.81015038        nan 0.82821827\n",
      " 0.80565049 0.8236956         nan 0.81765778 0.82067669 0.80565049\n",
      " 0.81168831 0.82370699 0.81918432 0.80567327 0.8161882  0.82672591\n",
      " 0.80415812 0.80413534        nan 0.82370699        nan        nan\n",
      "        nan 0.81769196        nan 0.82671451 0.81318068        nan\n",
      " 0.79511278 0.8086694         nan 0.81467305 0.81318068 0.82220324\n",
      "        nan 0.81318068 0.82219184        nan 0.82669173 0.81465026\n",
      " 0.82522215 0.7981203  0.81617681 0.79662793 0.81468444 0.81315789\n",
      " 0.81918432 0.80263158]\n",
      "  warnings.warn(\n"
     ]
    },
    {
     "name": "stdout",
     "output_type": "stream",
     "text": [
      "Best Hyperparameters:\n",
      "{'bootstrap': True, 'criterion': 'entropy', 'max_depth': 40, 'max_features': 'log2', 'min_samples_leaf': 3, 'min_samples_split': 5, 'n_estimators': 104}\n",
      "Accuracy on Test Set: 0.84\n"
     ]
    }
   ],
   "source": [
    "from sklearn.ensemble import RandomForestClassifier\n",
    "rf_model = RandomForestClassifier(random_state=0,class_weight='balanced')\n",
    "\n",
    "# define hyperparameters for tuning\n",
    "param_dist_rf = {\n",
    "  'n_estimators': randint(50, 200),\n",
    "  'max_depth': [None, 10, 20, 40],\n",
    "  'min_samples_split': randint(2, 10),\n",
    "  'min_samples_leaf': randint(1, 10),\n",
    "  'max_features': ['auto', 'sqrt', 'log2'],\n",
    "  'bootstrap': [True, False],\n",
    "  'criterion': ['gini', 'entropy']\n",
    "}\n",
    "\n",
    "grid_search_rf = RandomizedSearchCV(rf_model, param_distributions=param_dist_rf, n_iter=50, cv=5, random_state=42)\n",
    "grid_search_rf.fit(X_train, y_train)\n",
    "\n",
    "# get the best model and parameters\n",
    "best_rf_model = grid_search_rf.best_estimator_\n",
    "best_params_rf = grid_search_rf.best_params_\n",
    "\n",
    "# print the best hyperparameters\n",
    "print('Best Hyperparameters:')\n",
    "print(best_params_rf)\n",
    "\n",
    "# Train the model on the full training set\n",
    "best_rf_model.fit(X_train, y_train)\n",
    "\n",
    "# Evaluate the model on the test set\n",
    "y_pred_rf = best_rf_model.predict(X_test)\n",
    "accuracy_rf = accuracy_score(y_test, y_pred_rf)\n",
    "\n",
    "print(f'Accuracy on Test Set: {accuracy_rf:.2f}')"
   ]
  },
  {
   "cell_type": "markdown",
   "id": "8148ab14",
   "metadata": {},
   "source": [
    "### Support Vector Machine (SVM)"
   ]
  },
  {
   "cell_type": "code",
   "execution_count": 19,
   "id": "96f28faf",
   "metadata": {},
   "outputs": [
    {
     "name": "stdout",
     "output_type": "stream",
     "text": [
      "Fitting 5 folds for each of 360 candidates, totalling 1800 fits\n",
      "Best parameters: {'C': 0.1, 'class_weight': None, 'degree': 2, 'gamma': 0.1, 'kernel': 'rbf'}\n",
      "Best cross-validation score: 0.8267372977899292\n",
      "Best Hyperparameters:\n",
      "{'C': 0.1, 'class_weight': None, 'degree': 2, 'gamma': 0.1, 'kernel': 'rbf'}\n",
      "Accuracy on Test Set: 0.84\n"
     ]
    }
   ],
   "source": [
    "from sklearn.svm import SVC\n",
    "\n",
    "param_grid_svm = {\n",
    "  'C': [0.1, 1, 10, 100],\n",
    "  'kernel': ['linear', 'rbf', 'poly'],\n",
    "  'gamma': ['scale', 'auto', 0.01, 0.1, 1],\n",
    "  'degree': [2, 3, 4],  # only used if kernel='poly'\n",
    "  'class_weight': [None, 'balanced']\n",
    "}\n",
    "\n",
    "svc = SVC()\n",
    "\n",
    "grid_search_svm = GridSearchCV(svc, param_grid_svm, cv=5, verbose=1)\n",
    "grid_search_svm.fit(X_train, y_train)\n",
    "\n",
    "print(\"Best parameters:\", grid_search_svm.best_params_)\n",
    "print(\"Best cross-validation score:\", grid_search_svm.best_score_)\n",
    "\n",
    "# get the best model and parameters\n",
    "best_svm_model = grid_search_svm.best_estimator_\n",
    "best_params_svm = grid_search_svm.best_params_\n",
    "\n",
    "# print the best hyperparameters\n",
    "print('Best Hyperparameters:')\n",
    "print(best_params_svm)\n",
    "\n",
    "# Train the model on the full training set\n",
    "best_svm_model.fit(X_train, y_train)\n",
    "\n",
    "# Evaluate the model on the test set\n",
    "y_pred_svm = best_svm_model.predict(X_test)\n",
    "accuracy_svm = accuracy_score(y_test, y_pred_svm)\n",
    "\n",
    "print(f'Accuracy on Test Set: {accuracy_svm:.2f}')"
   ]
  },
  {
   "cell_type": "code",
   "execution_count": 22,
   "id": "7096dea6",
   "metadata": {},
   "outputs": [
    {
     "data": {
      "text/plain": [
       "['../models/rf_best.pkl']"
      ]
     },
     "execution_count": 22,
     "metadata": {},
     "output_type": "execute_result"
    }
   ],
   "source": [
    "# save best resulting models\n",
    "import joblib\n",
    "\n",
    "joblib.dump(best_svm_model, '../models/svm_best.pkl')\n",
    "joblib.dump(best_dst_model, '../models/dst_best.pkl')\n",
    "joblib.dump(best_log_model, '../models/log_best.pkl')\n",
    "joblib.dump(best_rf_model, '../models/rf_best.pkl')"
   ]
  }
 ],
 "metadata": {
  "kernelspec": {
   "display_name": "Python 3",
   "language": "python",
   "name": "python3"
  },
  "language_info": {
   "codemirror_mode": {
    "name": "ipython",
    "version": 3
   },
   "file_extension": ".py",
   "mimetype": "text/x-python",
   "name": "python",
   "nbconvert_exporter": "python",
   "pygments_lexer": "ipython3",
   "version": "3.11.7"
  }
 },
 "nbformat": 4,
 "nbformat_minor": 5
}
